{
  "nbformat": 4,
  "nbformat_minor": 0,
  "metadata": {
    "colab": {
      "provenance": [],
      "collapsed_sections": []
    },
    "kernelspec": {
      "name": "python3",
      "display_name": "Python 3"
    },
    "language_info": {
      "name": "python"
    }
  },
  "cells": [
    {
      "cell_type": "markdown",
      "source": [
        "# OOP II Lab Task 5\n",
        "```\n",
        "Object Oriented Programming Lab 2 NJR\n",
        "Course Code: CSE233+CSE234 \n",
        "Section: PC-B\n",
        "Completed by : Biplob Kumar Sutradhar (203-15-3923)\n",
        "```\n",
        "#### Daffodil International University"
      ],
      "metadata": {
        "id": "W04ij4mTaMfc"
      }
    },
    {
      "cell_type": "markdown",
      "source": [
        "# Task 1"
      ],
      "metadata": {
        "id": "AoJM4EA9aXVt"
      }
    },
    {
      "cell_type": "code",
      "execution_count": 1,
      "metadata": {
        "colab": {
          "base_uri": "https://localhost:8080/"
        },
        "id": "MRRKndF3aJ12",
        "outputId": "bbebe2d2-66d5-43fb-beb7-ed5e0c50dae4"
      },
      "outputs": [
        {
          "output_type": "stream",
          "name": "stdout",
          "text": [
            "400\n"
          ]
        }
      ],
      "source": [
        "a_tuple = (\"The Institute\", (\"Best Mystery & Thriller\", \"The Silent Patient\", 68821), 75717, [1, 2, 3, 400, 5, 6, 7], (\"Best Fiction\", \"The Testaments\", 98291))\n",
        "print(a_tuple[3][3])\n",
        "\n"
      ]
    },
    {
      "cell_type": "markdown",
      "source": [
        "# Task 2"
      ],
      "metadata": {
        "id": "pxnwVvalbnsE"
      }
    },
    {
      "cell_type": "code",
      "source": [
        "print(tuple(map(int, input()[1:-1].split(', ')))[2:-2])\n",
        "\n"
      ],
      "metadata": {
        "colab": {
          "base_uri": "https://localhost:8080/"
        },
        "id": "YS-aVYHjazrJ",
        "outputId": "31a2a0b8-e555-486b-9a2a-f88e6fa17ebc"
      },
      "execution_count": 5,
      "outputs": [
        {
          "output_type": "stream",
          "name": "stdout",
          "text": [
            "(-10, 20, 25, 30, 40)\n",
            "(25,)\n"
          ]
        }
      ]
    },
    {
      "cell_type": "markdown",
      "source": [
        "# Task 3"
      ],
      "metadata": {
        "id": "klJFgFMydh-0"
      }
    },
    {
      "cell_type": "code",
      "source": [
        "book_info = (\n",
        "(\"Best Mystery & Thriller\",\"The Silent Patient\",68,821), (\"Best Horror\",\"The Institute\",75,717),\n",
        "(\"Best History & Biography\",\"The five\",31,783 ), (\"Best Fiction\",\"The Testaments\",98,291)\n",
        ")\n",
        "print('Size of the tuple is:', len(book_info))\n",
        "print(*book_info, sep='\\n', end='')\n",
        "\n"
      ],
      "metadata": {
        "colab": {
          "base_uri": "https://localhost:8080/"
        },
        "id": "Hku_5P0MdHSv",
        "outputId": "92203fb0-6eef-472d-8c32-eb899864bbb7"
      },
      "execution_count": 7,
      "outputs": [
        {
          "output_type": "stream",
          "name": "stdout",
          "text": [
            "Size of the tuple is: 4\n",
            "('Best Mystery & Thriller', 'The Silent Patient', 68, 821)\n",
            "('Best Horror', 'The Institute', 75, 717)\n",
            "('Best History & Biography', 'The five', 31, 783)\n",
            "('Best Fiction', 'The Testaments', 98, 291)"
          ]
        }
      ]
    },
    {
      "cell_type": "markdown",
      "source": [
        "# Task 4"
      ],
      "metadata": {
        "id": "zW4nKmLRf_N1"
      }
    },
    {
      "cell_type": "code",
      "source": [
        "book_info = (\n",
        "(\"Best Mystery & Thriller\",\"The Silent Patient\",68821), (\"Best Horror\",\"The Institute\",75717),\n",
        "(\"Best History & Biography\",\"The five\",31783 ), (\"Best Fiction\",\"The Testaments\",98291)\n",
        ")\n",
        "\n",
        "for i in book_info:\n",
        "  b, a, c = i\n",
        "  print(a, 'won the', f\"'{b}'\", 'category with', c, 'votes')\n",
        "\n"
      ],
      "metadata": {
        "colab": {
          "base_uri": "https://localhost:8080/"
        },
        "id": "7BRYnzUqgCvE",
        "outputId": "f3fe63be-c3ca-4948-cd69-14705dfbcebe"
      },
      "execution_count": 10,
      "outputs": [
        {
          "output_type": "stream",
          "name": "stdout",
          "text": [
            "The Silent Patient won the 'Best Mystery & Thriller' category with 68821 votes\n",
            "The Institute won the 'Best Horror' category with 75717 votes\n",
            "The five won the 'Best History & Biography' category with 31783 votes\n",
            "The Testaments won the 'Best Fiction' category with 98291 votes\n"
          ]
        }
      ]
    },
    {
      "cell_type": "markdown",
      "source": [
        "# Task 5"
      ],
      "metadata": {
        "id": "VAYLDDdvmNiN"
      }
    },
    {
      "cell_type": "code",
      "source": [
        "u, c = tuple(map(int, input()[14:-1].split(', '))), int(input())\n",
        "print(c, 'appears', u.count(c), 'times in the tuple')\n",
        "\n"
      ],
      "metadata": {
        "colab": {
          "base_uri": "https://localhost:8080/"
        },
        "id": "TDZi8WKWmQDO",
        "outputId": "bcfafe61-79ad-4886-8e69-d3ef290d7b05"
      },
      "execution_count": 14,
      "outputs": [
        {
          "output_type": "stream",
          "name": "stdout",
          "text": [
            "Given tuple: (10, 8, 5, 2, 10, 15, 10, 8, 5, 8, 8, 2)\n",
            "8\n",
            "8 appears 4 times in the tuple\n"
          ]
        }
      ]
    },
    {
      "cell_type": "markdown",
      "source": [
        "# Task 6"
      ],
      "metadata": {
        "id": "WtcuVSTZnNve"
      }
    },
    {
      "cell_type": "code",
      "source": [
        "i = input()\n",
        "print('(', end='')\n",
        "print(*i[14:-1].split(', ')[::-1], sep=', ', end=')')\n",
        "\n"
      ],
      "metadata": {
        "colab": {
          "base_uri": "https://localhost:8080/"
        },
        "id": "-JxMvXBPm8cK",
        "outputId": "c07677b8-0805-48d5-e44a-c1a10f0bf677"
      },
      "execution_count": 22,
      "outputs": [
        {
          "output_type": "stream",
          "name": "stdout",
          "text": [
            "Given tuple: ('a', 'b', 'c', 'd', 'e', 'f', 'g', 'h')\n",
            "('h', 'g', 'f', 'e', 'd', 'c', 'b', 'a')"
          ]
        }
      ]
    },
    {
      "cell_type": "markdown",
      "source": [
        "# Task 7"
      ],
      "metadata": {
        "id": "5-XcCJ-zohIj"
      }
    },
    {
      "cell_type": "code",
      "source": [
        "a = {'Harry':15, 'Draco':8, 'Nevil':19}\n",
        "b = {'Ginie':18, 'Luna': 14}\n",
        "\n",
        "c = dict(a, **b)\n",
        "print(c)\n",
        "\n"
      ],
      "metadata": {
        "colab": {
          "base_uri": "https://localhost:8080/"
        },
        "id": "6nOMNVw4nyff",
        "outputId": "112455ba-0793-4f5f-fe2a-18bdf012e4a3"
      },
      "execution_count": 24,
      "outputs": [
        {
          "output_type": "stream",
          "name": "stdout",
          "text": [
            "{'Harry': 15, 'Draco': 8, 'Nevil': 19, 'Ginie': 18, 'Luna': 14}\n"
          ]
        }
      ]
    },
    {
      "cell_type": "markdown",
      "source": [
        "# Task 8"
      ],
      "metadata": {
        "id": "YFLMuYgcprc4"
      }
    },
    {
      "cell_type": "code",
      "source": [
        "i = input()[1:-1].split(', ')\n",
        "l = 0\n",
        "t = 0\n",
        "for m in i:\n",
        "  t += int(m.split(':')[1])\n",
        "  l += 1\n",
        "print(f'Average is {t//l}.')\n",
        "\n"
      ],
      "metadata": {
        "colab": {
          "base_uri": "https://localhost:8080/"
        },
        "id": "Lp6jXDC_qPg-",
        "outputId": "ed6ba364-f96f-4f6e-f0cc-09db41e476a4"
      },
      "execution_count": 26,
      "outputs": [
        {
          "output_type": "stream",
          "name": "stdout",
          "text": [
            "{'Jon': 100, 'Dan':200, 'Rob':30, 'Ned':110}\n",
            "Average is 110.\n"
          ]
        }
      ]
    },
    {
      "cell_type": "markdown",
      "source": [
        "# Task 9"
      ],
      "metadata": {
        "id": "6Bc--0Lqsg5_"
      }
    },
    {
      "cell_type": "code",
      "source": [
        "exam_marks = {'Cierra Vega': 175, 'Alden Cantrell': 200, 'Kierra Gentry': 165, 'Pierre Cox': 190}\n",
        "\n",
        "i = int(input())\n",
        "n = dict()\n",
        "for k,v in exam_marks.items():\n",
        "  if v>=i:\n",
        "    n[k] = v\n",
        "print(n)\n",
        "\n"
      ],
      "metadata": {
        "colab": {
          "base_uri": "https://localhost:8080/"
        },
        "id": "a049h08fsjpC",
        "outputId": "42ac3a77-5739-44bf-f7bf-8dbe2418f114"
      },
      "execution_count": 29,
      "outputs": [
        {
          "output_type": "stream",
          "name": "stdout",
          "text": [
            "190\n",
            "{'Alden Cantrell': 200, 'Pierre Cox': 190}\n"
          ]
        }
      ]
    },
    {
      "cell_type": "markdown",
      "source": [
        "# Task 10"
      ],
      "metadata": {
        "id": "b5N5Vhu-uEjH"
      }
    },
    {
      "cell_type": "code",
      "source": [
        "given_dict = {'sci fi': 5, 'mystery': 3, 'horror': 14, 'young_adult': 2, 'adventure':9}\n",
        "\n",
        "t = tuple(given_dict.items())\n",
        "m = t[0]\n",
        "\n",
        "for i in t:\n",
        "  if m[1]<i[1]:\n",
        "    m = i\n",
        "\n",
        "print(f\"The highest selling book genre is '{m[0]}' and the number of books sold are {m[1]}.\")\n",
        "\n"
      ],
      "metadata": {
        "colab": {
          "base_uri": "https://localhost:8080/"
        },
        "id": "sgO_UACLt27X",
        "outputId": "8fede131-e358-4bd4-f2cf-61d2bd5278e6"
      },
      "execution_count": 34,
      "outputs": [
        {
          "output_type": "stream",
          "name": "stdout",
          "text": [
            "The highest selling book genre is 'horror' and the number of books sold are 14.\n"
          ]
        }
      ]
    },
    {
      "cell_type": "markdown",
      "source": [
        "# Task 11"
      ],
      "metadata": {
        "id": "FBLuJtRkyJAh"
      }
    },
    {
      "cell_type": "code",
      "source": [
        "i = input().lower()[1:-1]\n",
        "o = dict()\n",
        "\n",
        "for m in i:\n",
        "  if not m==' ':\n",
        "    try:\n",
        "      o[m] += 1\n",
        "    except KeyError:\n",
        "      o[m] = 1\n",
        "\n",
        "print(o)\n",
        "\n",
        "\n"
      ],
      "metadata": {
        "colab": {
          "base_uri": "https://localhost:8080/"
        },
        "id": "vxY6wewnvzrS",
        "outputId": "315bc0cb-5227-4d45-acf2-893b8508e8c5"
      },
      "execution_count": 37,
      "outputs": [
        {
          "output_type": "stream",
          "name": "stdout",
          "text": [
            "\"Python programming is fun\"\n",
            "{'p': 2, 'y': 1, 't': 1, 'h': 1, 'o': 2, 'n': 3, 'r': 2, 'g': 2, 'a': 1, 'm': 2, 'i': 2, 's': 1, 'f': 1, 'u': 1}\n"
          ]
        }
      ]
    },
    {
      "cell_type": "markdown",
      "source": [
        "# Task 12"
      ],
      "metadata": {
        "id": "X0xudRTgyiv5"
      }
    },
    {
      "cell_type": "code",
      "source": [
        "dict_1 = {'A': [1, 2, 3], 'b': ['1', '2'], \"c\": [4, 5, 6, 7]}\n",
        "\n",
        "c = 0\n",
        "for d in dict_1.values():\n",
        "  for v in d:\n",
        "    c += 1\n",
        "\n",
        "print(c)\n",
        "\n",
        "\n"
      ],
      "metadata": {
        "colab": {
          "base_uri": "https://localhost:8080/"
        },
        "id": "jBvMxDHDyhoA",
        "outputId": "053dc606-5819-4ade-e334-d7e8d040059e"
      },
      "execution_count": 38,
      "outputs": [
        {
          "output_type": "stream",
          "name": "stdout",
          "text": [
            "9\n"
          ]
        }
      ]
    },
    {
      "cell_type": "markdown",
      "source": [
        "# Task 13"
      ],
      "metadata": {
        "id": "2Os1tkePy1Yn"
      }
    },
    {
      "cell_type": "code",
      "source": [
        "list_1 = [(\"a\", 1), (\"b\", 2), (\"a\", 3), (\"b\", 1), (\"a\", 2), (\"c\", 1)]\n",
        "\n",
        "n = dict()\n",
        "\n",
        "for m in list_1:\n",
        "  try:\n",
        "    n[m[0]].append(m[1])\n",
        "  except KeyError:\n",
        "    n[m[0]] = [m[1]]\n",
        "\n",
        "print(n)\n",
        "\n",
        "  "
      ],
      "metadata": {
        "colab": {
          "base_uri": "https://localhost:8080/"
        },
        "id": "7X8hBWRoy0vP",
        "outputId": "7a8673bd-f2be-4c56-b15d-89207977e798"
      },
      "execution_count": 39,
      "outputs": [
        {
          "output_type": "stream",
          "name": "stdout",
          "text": [
            "{'a': [1, 3, 2], 'b': [2, 1], 'c': [1]}\n"
          ]
        }
      ]
    },
    {
      "cell_type": "markdown",
      "source": [
        "# Task 14"
      ],
      "metadata": {
        "id": "B8_UnAUBzKKs"
      }
    },
    {
      "cell_type": "code",
      "source": [
        "dict1 = {'a':59 , 'b':-82 , 'c':5 , 'd':-81 , 'e':53}\n",
        "for i in dict1:\n",
        "  j = 0\n",
        "  k = 22\n",
        "  while j < 5:\n",
        "    if j % 2 == 0:\n",
        "      k = dict1[i] + j - (8 + k % 6) / 3\n",
        "      dict1[i] = dict1[i]+ int(k)\n",
        "    else:\n",
        "      k = dict1[i] + j - (6 - k % 8) * 3\n",
        "      dict1[i] = dict1[i] - int(k)\n",
        "    j += 1\n",
        "  print(int(k))\n",
        "  print(i + \" -> \" + str(dict1[i]))\n",
        "\n"
      ],
      "metadata": {
        "colab": {
          "base_uri": "https://localhost:8080/"
        },
        "id": "SmJLiliczIJO",
        "outputId": "8bda0a67-493f-486d-80f6-dd2bbee95e8c"
      },
      "execution_count": 40,
      "outputs": [
        {
          "output_type": "stream",
          "name": "stdout",
          "text": [
            "8\n",
            "a -> 17\n",
            "10\n",
            "b -> 19\n",
            "2\n",
            "c -> 5\n",
            "-7\n",
            "d -> -14\n",
            "2\n",
            "e -> 5\n"
          ]
        }
      ]
    },
    {
      "cell_type": "markdown",
      "source": [
        "# Task 15"
      ],
      "metadata": {
        "id": "_52IVbCv55Xh"
      }
    },
    {
      "cell_type": "code",
      "source": [
        "given = [(2, 3), (4, 5), (6, 7), (2, 8)]\n",
        "print([i*j for i, j in given])\n",
        "\n"
      ],
      "metadata": {
        "colab": {
          "base_uri": "https://localhost:8080/"
        },
        "id": "mZI_7cIizcu8",
        "outputId": "0ef6be98-01b0-463d-d815-072b1611f851"
      },
      "execution_count": 41,
      "outputs": [
        {
          "output_type": "stream",
          "name": "stdout",
          "text": [
            "[6, 20, 42, 16]\n"
          ]
        }
      ]
    },
    {
      "cell_type": "markdown",
      "source": [
        "# Task 16"
      ],
      "metadata": {
        "id": "BlFg_7wZzwrv"
      }
    },
    {
      "cell_type": "code",
      "source": [
        "a_tuple = ( [1, 2, 3], [4, 5, 6], [7, 8, 9], [10, 11, 12])\n",
        "i = input()\n",
        "print(tuple(j[:-1]+[i] for j in a_tuple))\n",
        "\n"
      ],
      "metadata": {
        "colab": {
          "base_uri": "https://localhost:8080/"
        },
        "id": "97qOesp4ztdJ",
        "outputId": "10e53e2e-77e9-4aa8-cda7-8ca0b1f0504c"
      },
      "execution_count": 43,
      "outputs": [
        {
          "output_type": "stream",
          "name": "stdout",
          "text": [
            "abc\n",
            "([1, 2, 'abc'], [4, 5, 'abc'], [7, 8, 'abc'], [10, 11, 'abc'])\n"
          ]
        }
      ]
    },
    {
      "cell_type": "markdown",
      "source": [
        "# Task 17"
      ],
      "metadata": {
        "id": "1ykz02OD1Ty4"
      }
    },
    {
      "cell_type": "code",
      "source": [
        "my_dictionary = {'c1':'Red', 'c2':'Green', 'c3':None, 'd4':'Blue', 'a5':None}\n",
        "print(dict((k, v) for k, v in my_dictionary.items() if v is not None))\n",
        "\n"
      ],
      "metadata": {
        "colab": {
          "base_uri": "https://localhost:8080/"
        },
        "id": "8iXGcDoA0KsD",
        "outputId": "06448732-6189-4df0-a489-f5bb067bc661"
      },
      "execution_count": 45,
      "outputs": [
        {
          "output_type": "stream",
          "name": "stdout",
          "text": [
            "{'c1': 'Red', 'c2': 'Green', 'd4': 'Blue'}\n"
          ]
        }
      ]
    },
    {
      "cell_type": "markdown",
      "source": [
        "# Task 18"
      ],
      "metadata": {
        "id": "Yi70BWHQ1z1Z"
      }
    },
    {
      "cell_type": "code",
      "source": [
        "dict_1 = {'a' : 6, 'b' : 7, 'c' : 9, 'd' : 8, 'e' : 11, 'f' : 12, 'g' : 13}\n",
        "x, y = map(int, input().split(', '))\n",
        "\n",
        "print(dict((k, v) for k, v in dict_1.items() if x<=v<y))\n",
        "\n"
      ],
      "metadata": {
        "colab": {
          "base_uri": "https://localhost:8080/"
        },
        "id": "MwqZwYbk0l1p",
        "outputId": "42074c60-e07a-49db-d145-d7334f2bf2de"
      },
      "execution_count": 49,
      "outputs": [
        {
          "output_type": "stream",
          "name": "stdout",
          "text": [
            "9, 12\n",
            "{'c': 9, 'e': 11}\n"
          ]
        }
      ]
    },
    {
      "cell_type": "markdown",
      "source": [
        "# Task 19"
      ],
      "metadata": {
        "id": "mQlYpXOj2xRg"
      }
    },
    {
      "cell_type": "code",
      "source": [
        "d = [(20, 80), (31, 80), (1, 22), (88, 11), (27, 11)]\n",
        "m = dict()\n",
        "\n",
        "for i in d:\n",
        "  try:\n",
        "    m[i[1]].append(i)\n",
        "  except KeyError:\n",
        "    m[i[1]] = [i]\n",
        "\n",
        "print(m)\n",
        "\n"
      ],
      "metadata": {
        "colab": {
          "base_uri": "https://localhost:8080/"
        },
        "id": "keOMcmXU2q9n",
        "outputId": "c0a00267-1acb-44ef-f165-2154996606a4"
      },
      "execution_count": 51,
      "outputs": [
        {
          "output_type": "stream",
          "name": "stdout",
          "text": [
            "{80: [(20, 80), (31, 80)], 22: [(1, 22)], 11: [(88, 11), (27, 11)]}\n"
          ]
        }
      ]
    },
    {
      "cell_type": "markdown",
      "source": [
        "# Task 20"
      ],
      "metadata": {
        "id": "urtrcNRQxzc9"
      }
    },
    {
      "cell_type": "code",
      "source": [
        "import re\n",
        "\n",
        "i = input()[1:-1]\n",
        "c = list(map(lambda x: x[1:-1], input()[1:-1].split(', ')))\n",
        "\n",
        "lenC = len(c)\n",
        "words = re.findall(r'\\w+', i)\n",
        "print('Words in the given String:', words)\n",
        "\n",
        "d = dict()\n",
        "\n",
        "for m in words:\n",
        "  cValue = c[sum(ord(j) for j in m)%lenC]\n",
        "  try:\n",
        "    if not m in d[cValue]: \n",
        "      d[cValue].append(m)\n",
        "  except KeyError:\n",
        "    d[cValue] = [m]\n",
        "  \n",
        "print('Answer:', d)\n",
        "\n"
      ],
      "metadata": {
        "colab": {
          "base_uri": "https://localhost:8080/"
        },
        "id": "x420geiQxymd",
        "outputId": "de336e3e-a5c0-4482-a9a2-8c3fb8ce5565"
      },
      "execution_count": 57,
      "outputs": [
        {
          "output_type": "stream",
          "name": "stdout",
          "text": [
            "'I love Programming. Python is love.'\n",
            "['@', '$', '&', '#']\n",
            "Words in the given String: ['I', 'love', 'Programming', 'Python', 'is', 'love']\n",
            "Answer: {'$': ['I'], '&': ['love', 'Python'], '#': ['Programming'], '@': ['is']}\n"
          ]
        }
      ]
    }
  ]
}