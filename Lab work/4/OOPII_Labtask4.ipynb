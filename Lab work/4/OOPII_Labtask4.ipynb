{
  "nbformat": 4,
  "nbformat_minor": 0,
  "metadata": {
    "colab": {
      "provenance": []
    },
    "kernelspec": {
      "name": "python3",
      "display_name": "Python 3"
    },
    "language_info": {
      "name": "python"
    }
  },
  "cells": [
    {
      "cell_type": "markdown",
      "source": [
        "# OOP II Lab Task 4\n",
        "```\n",
        "Object Oriented Programming Lab 2 NJR\n",
        "Course Code: CSE233+CSE234 \n",
        "Section: PC-B\n",
        "Completed by : Biplob Kumar Sutradhar (203-15-3923)\n",
        "```\n",
        "#### Daffodil International University"
      ],
      "metadata": {
        "id": "W04ij4mTaMfc"
      }
    },
    {
      "cell_type": "markdown",
      "source": [
        "# Task 1"
      ],
      "metadata": {
        "id": "AoJM4EA9aXVt"
      }
    },
    {
      "cell_type": "code",
      "execution_count": 3,
      "metadata": {
        "colab": {
          "base_uri": "https://localhost:8080/"
        },
        "id": "MRRKndF3aJ12",
        "outputId": "89572418-7144-43c5-8ec8-ee0a4c6b5c9a"
      },
      "outputs": [
        {
          "output_type": "stream",
          "name": "stdout",
          "text": [
            "3\n",
            "Numbers in the list: [3]\n",
            "5\n",
            "Numbers in the list: [3, 5]\n",
            "34\n",
            "Numbers in the list: [3, 5, 34]\n",
            "-11\n",
            "Numbers in the list: [3, 5, 34, -11]\n",
            "0\n",
            "Numbers in the list: [3, 5, 34, -11, 0]\n"
          ]
        }
      ],
      "source": [
        "l = []\n",
        "for i in range(5):\n",
        "  l.append(int(input()))\n",
        "  print('Numbers in the list:', l)\n",
        "\n"
      ]
    },
    {
      "cell_type": "markdown",
      "source": [
        "# Task 2"
      ],
      "metadata": {
        "id": "pxnwVvalbnsE"
      }
    },
    {
      "cell_type": "code",
      "source": [
        "i = input()[1:-1].split(', ')\n",
        "if len(i)<=3:\n",
        "  print('Not possible')\n",
        "else:\n",
        "  print('[', end='')\n",
        "  print(*i[2:-2], sep=', ', end=']')\n",
        "\n"
      ],
      "metadata": {
        "colab": {
          "base_uri": "https://localhost:8080/"
        },
        "id": "YS-aVYHjazrJ",
        "outputId": "a2770ea5-1ac6-4bdd-ca10-bddf55a00e14"
      },
      "execution_count": 14,
      "outputs": [
        {
          "output_type": "stream",
          "name": "stdout",
          "text": [
            "[10, 20, 24, 25, 26]\n",
            "[24]"
          ]
        }
      ]
    },
    {
      "cell_type": "markdown",
      "source": [
        "# Task 3"
      ],
      "metadata": {
        "id": "klJFgFMydh-0"
      }
    },
    {
      "cell_type": "code",
      "source": [
        "i = [int(input() for _ in range(5)]\n",
        "print('Input data:', i)\n",
        "i.reverse()\n",
        "print(*['Printing values from the list in reverse order:', \n",
        "        *i], \n",
        "      sep='\\n', \n",
        "      end='')\n",
        "\n"
      ],
      "metadata": {
        "colab": {
          "base_uri": "https://localhost:8080/"
        },
        "id": "Hku_5P0MdHSv",
        "outputId": "aeb6c1fd-44de-48b9-ae0a-5dd6e57b5341"
      },
      "execution_count": 18,
      "outputs": [
        {
          "output_type": "stream",
          "name": "stdout",
          "text": [
            "5\n",
            "-5\n",
            "100\n",
            "1\n",
            "0\n",
            "Input data: [5, -5, 100, 1, 0]\n",
            "Printing values from the list in reverse order:\n",
            "0\n",
            "1\n",
            "100\n",
            "-5\n",
            "5"
          ]
        }
      ]
    },
    {
      "cell_type": "markdown",
      "source": [
        "# Task 4"
      ],
      "metadata": {
        "id": "zW4nKmLRf_N1"
      }
    },
    {
      "cell_type": "code",
      "source": [
        "def sqrList(gL):\n",
        "  return [i**2 for i in gL]\n",
        "\n",
        "givenList1 = [1, 2, 3, 4, 5, 6, 7]\n",
        "print(sqrList(givenList1))\n",
        "\n",
        "givenList2 = [3, 5, 1, 6]\n",
        "print(sqrList(givenList2))\n",
        "\n"
      ],
      "metadata": {
        "colab": {
          "base_uri": "https://localhost:8080/"
        },
        "id": "7BRYnzUqgCvE",
        "outputId": "01bc216f-225b-40d3-ad58-a5542542acba"
      },
      "execution_count": 19,
      "outputs": [
        {
          "output_type": "stream",
          "name": "stdout",
          "text": [
            "[1, 4, 9, 16, 25, 36, 49]\n",
            "[9, 25, 1, 36]\n"
          ]
        }
      ]
    },
    {
      "cell_type": "markdown",
      "source": [
        "# Task 5"
      ],
      "metadata": {
        "id": "VAYLDDdvmNiN"
      }
    },
    {
      "cell_type": "code",
      "source": [
        "def printOutput(gL):\n",
        "  print(\n",
        "    'Original List:', gL, \n",
        "    '\\nModified List:', [i for i in gL if not i==''])\n",
        "\n",
        "printOutput([\"hey\", \"there\", \"\", \"what's\", \"\", \"up\", \"\", \"?\"])\n",
        "\n"
      ],
      "metadata": {
        "colab": {
          "base_uri": "https://localhost:8080/"
        },
        "id": "TDZi8WKWmQDO",
        "outputId": "a8f2fab6-3fd4-4dc1-d5f3-5a809288f5d8"
      },
      "execution_count": 23,
      "outputs": [
        {
          "output_type": "stream",
          "name": "stdout",
          "text": [
            "Original List: ['hey', 'there', '', \"what's\", '', 'up', '', '?'] \n",
            "Modified List: ['hey', 'there', \"what's\", 'up', '?']\n"
          ]
        }
      ]
    },
    {
      "cell_type": "markdown",
      "source": [
        "# Task 6"
      ],
      "metadata": {
        "id": "WtcuVSTZnNve"
      }
    },
    {
      "cell_type": "code",
      "source": [
        "i = list(map(int, input()[1:-1].split(', ')))\n",
        "maxN = i[0]\n",
        "iP = 0\n",
        "for inx, n in enumerate(i[1:]):\n",
        "  if maxN < n:\n",
        "    maxN = n\n",
        "    iP = inx+1\n",
        "\n",
        "print(\n",
        "    'My list:', i, \n",
        "    f'\\nLargest number in the list is {maxN} which was found at index {iP}.')\n",
        "\n"
      ],
      "metadata": {
        "colab": {
          "base_uri": "https://localhost:8080/"
        },
        "id": "-JxMvXBPm8cK",
        "outputId": "8306b80e-2920-4763-fcb9-911d0d8b5645"
      },
      "execution_count": 32,
      "outputs": [
        {
          "output_type": "stream",
          "name": "stdout",
          "text": [
            "\"7, 13, 2, 10, 6, -11, 0\"\n",
            "My list: [7, 13, 2, 10, 6, -11, 0] \n",
            "Largest number in the list is 13 which was found at index 1.\n"
          ]
        }
      ]
    },
    {
      "cell_type": "markdown",
      "source": [
        "# Task 7"
      ],
      "metadata": {
        "id": "5-XcCJ-zohIj"
      }
    },
    {
      "cell_type": "code",
      "source": [
        "def replaceSlic(l, l1):\n",
        "  print(l[:-1]+l1)\n",
        "\n",
        "replaceSlic(\n",
        "    [1, 4, 7, 5],\n",
        "    [6, 1, 3, 9]\n",
        ") \n",
        "print()\n",
        "replaceSlic(\n",
        "    [1, 3, 5, 7, 9, 10],\n",
        "    [2, 4, 6, 8]\n",
        ") \n",
        "\n"
      ],
      "metadata": {
        "colab": {
          "base_uri": "https://localhost:8080/"
        },
        "id": "6nOMNVw4nyff",
        "outputId": "9de201d2-4235-4fa0-a462-605d1998508d"
      },
      "execution_count": 4,
      "outputs": [
        {
          "output_type": "stream",
          "name": "stdout",
          "text": [
            "[1, 4, 7, 6, 1, 3, 9]\n",
            "\n",
            "[1, 3, 5, 7, 9, 2, 4, 6, 8]\n"
          ]
        }
      ]
    },
    {
      "cell_type": "markdown",
      "source": [
        "# Task 8"
      ],
      "metadata": {
        "id": "YFLMuYgcprc4"
      }
    },
    {
      "cell_type": "code",
      "source": [
        "list_one = [1, 2, 3, 4, 5, 6, 7, 8, 9]\n",
        "list_two = [10, 11, 12, -13, -14, -15, -16]\n",
        "\n",
        "print([i for i in list_one+list_two if i%2==0])\n",
        "\n"
      ],
      "metadata": {
        "colab": {
          "base_uri": "https://localhost:8080/"
        },
        "id": "Lp6jXDC_qPg-",
        "outputId": "256fce05-0f37-4167-941d-a44f34011128"
      },
      "execution_count": 5,
      "outputs": [
        {
          "output_type": "stream",
          "name": "stdout",
          "text": [
            "[2, 4, 6, 8, 10, 12, -14, -16]\n"
          ]
        }
      ]
    },
    {
      "cell_type": "markdown",
      "source": [
        "# Task 9"
      ],
      "metadata": {
        "id": "6Bc--0Lqsg5_"
      }
    },
    {
      "cell_type": "code",
      "source": [
        "i = input()\n",
        "orList = []\n",
        "\n",
        "n = ''\n",
        "for m in i:\n",
        "  if m==' ':\n",
        "    orList.append(int(n))\n",
        "    n='' \n",
        "  else:\n",
        "    n+=m\n",
        "orList.append(int(n))\n",
        "\n",
        "print('Original list:', orList)\n",
        "print('Modified list:', [i for i in orList if i%2!=0])\n",
        "  \n",
        "  "
      ],
      "metadata": {
        "colab": {
          "base_uri": "https://localhost:8080/"
        },
        "id": "a049h08fsjpC",
        "outputId": "955bc6f9-2abf-43be-83e3-44fa8fcdc89f"
      },
      "execution_count": 10,
      "outputs": [
        {
          "output_type": "stream",
          "name": "stdout",
          "text": [
            "7 12 4 55 96 2 11 61 33 42\n",
            "Original list: [7, 12, 4, 55, 96, 2, 11, 61, 33, 42]\n",
            "Modified list: [7, 55, 11, 61, 33]\n"
          ]
        }
      ]
    },
    {
      "cell_type": "markdown",
      "source": [
        "# Task 10"
      ],
      "metadata": {
        "id": "b5N5Vhu-uEjH"
      }
    },
    {
      "cell_type": "code",
      "source": [
        "i = list(map(int, input().split(', ')))\n",
        "print('Input list:', i)\n",
        "print('Modified list:', list(set(i)))\n",
        "\n"
      ],
      "metadata": {
        "colab": {
          "base_uri": "https://localhost:8080/"
        },
        "id": "sgO_UACLt27X",
        "outputId": "0a60eb16-99b1-4703-cac7-fb34808e1769"
      },
      "execution_count": 11,
      "outputs": [
        {
          "output_type": "stream",
          "name": "stdout",
          "text": [
            "0, 0, 1, 2, 3, 4, 4, 5, 6, 6, 6, 7, 8, 9, 4, 4\n",
            "Input list: [0, 0, 1, 2, 3, 4, 4, 5, 6, 6, 6, 7, 8, 9, 4, 4]\n",
            "Modified list: [0, 1, 2, 3, 4, 5, 6, 7, 8, 9]\n"
          ]
        }
      ]
    },
    {
      "cell_type": "markdown",
      "source": [
        "# Task 11"
      ],
      "metadata": {
        "id": "FBLuJtRkyJAh"
      }
    },
    {
      "cell_type": "code",
      "source": [
        "List_one = [1, 4, 3, 2, 5]\n",
        "List_two = [8, 7, 6, 9]\n",
        "\n",
        "print('True' if len(set(List_two) & set(List_one)) > 0 else 'False')\n",
        "\n"
      ],
      "metadata": {
        "colab": {
          "base_uri": "https://localhost:8080/"
        },
        "id": "vxY6wewnvzrS",
        "outputId": "ae1504d6-d6e1-44f1-beaf-83199ea53ac2"
      },
      "execution_count": 15,
      "outputs": [
        {
          "output_type": "stream",
          "name": "stdout",
          "text": [
            "False\n"
          ]
        }
      ]
    },
    {
      "cell_type": "markdown",
      "source": [
        "# Task 12"
      ],
      "metadata": {
        "id": "X0xudRTgyiv5"
      }
    },
    {
      "cell_type": "code",
      "source": [
        "myList = [0, 0, 0, 0, 0, 0, 0, 0, 0, 0]\n",
        "index1 = 0\n",
        "index2 = 0\n",
        "index1 = 1\n",
        "while(index1<10):\n",
        "  myList[index1] = index1+4\n",
        "  index2 = 1\n",
        "  while(index2<index1):\n",
        "    myList[index1] = myList[index1] + myList[index2]-index1\n",
        "    index2 = index2+1\n",
        "  print(myList[index1])\n",
        "  index1 = index1+1\n",
        "\n",
        "  "
      ],
      "metadata": {
        "colab": {
          "base_uri": "https://localhost:8080/"
        },
        "id": "jBvMxDHDyhoA",
        "outputId": "5ba1500f-eb00-4580-d5e7-152c61aa2a28"
      },
      "execution_count": 16,
      "outputs": [
        {
          "output_type": "stream",
          "name": "stdout",
          "text": [
            "5\n",
            "9\n",
            "15\n",
            "25\n",
            "43\n",
            "77\n",
            "143\n",
            "273\n",
            "531\n"
          ]
        }
      ]
    },
    {
      "cell_type": "markdown",
      "source": [
        "# Task 13"
      ],
      "metadata": {
        "id": "2Os1tkePy1Yn"
      }
    },
    {
      "cell_type": "code",
      "source": [
        "myList = [0, 0, 0, 0, 0, 0, 0, 0, 0, 0]\n",
        "index1 = 0\n",
        "index2 = 0\n",
        "index1 = 1\n",
        "while (index1 < 10):\n",
        "  myList[index1] = index1 + 4\n",
        "  index2 = 1\n",
        "  while (index2 < index1):\n",
        "    myList[index1] = myList[index1-1] - myList[index2-1] - index1\n",
        "    index2 = index2 + 1\n",
        "  print(myList[index1])\n",
        "  index1 = index1 + 1\n",
        "\n",
        "  "
      ],
      "metadata": {
        "colab": {
          "base_uri": "https://localhost:8080/"
        },
        "id": "7X8hBWRoy0vP",
        "outputId": "8f2a216e-5d72-4e39-ec11-8352862d204a"
      },
      "execution_count": 17,
      "outputs": [
        {
          "output_type": "stream",
          "name": "stdout",
          "text": [
            "5\n",
            "3\n",
            "-5\n",
            "-12\n",
            "-12\n",
            "-6\n",
            "-1\n",
            "-3\n",
            "-11\n"
          ]
        }
      ]
    },
    {
      "cell_type": "markdown",
      "source": [
        "# Task 14"
      ],
      "metadata": {
        "id": "B8_UnAUBzKKs"
      }
    },
    {
      "cell_type": "code",
      "source": [
        "myList = [0, 0, 0, 0, 0, 0, 0, 0, 0, 0]\n",
        "b = []\n",
        "index1 = 0\n",
        "index2 = 0\n",
        "index1 = 1\n",
        "b = myList\n",
        "while(index1<10):\n",
        "  myList[index1] = index1+2\n",
        "  index2 = 1\n",
        "  while(index2<index1):\n",
        "    myList[index1] = b[index1]+myList[index2]-index1\n",
        "    index2 = index2+1\n",
        "  print(myList[index1])\n",
        "  index1 = index1+1\n",
        "\n"
      ],
      "metadata": {
        "colab": {
          "base_uri": "https://localhost:8080/"
        },
        "id": "SmJLiliczIJO",
        "outputId": "e1495d65-72ba-4c09-9e56-8fb6e247b6a2"
      },
      "execution_count": 18,
      "outputs": [
        {
          "output_type": "stream",
          "name": "stdout",
          "text": [
            "3\n",
            "5\n",
            "7\n",
            "9\n",
            "11\n",
            "13\n",
            "15\n",
            "17\n",
            "19\n"
          ]
        }
      ]
    },
    {
      "cell_type": "markdown",
      "source": [
        "# Task 15"
      ],
      "metadata": {
        "id": "_52IVbCv55Xh"
      }
    },
    {
      "cell_type": "code",
      "source": [
        "myList = [0, 0, 0, 0, 0, 0, 0, 0, 0, 0]\n",
        "b = []\n",
        "index1 = 0\n",
        "index2 = 0\n",
        "index1 = 1\n",
        "b = myList\n",
        "while (index1 < 10):\n",
        "  myList[index1] = index1 + 1\n",
        "  index2 = 1\n",
        "  while (index2 < index1):\n",
        "    myList[index1] = b[index2-1] + myList[index2] - index1\n",
        "    index2 = index2 + 1\n",
        "  print(myList[index1])\n",
        "  index1 = index1 + 1\n",
        "\n"
      ],
      "metadata": {
        "colab": {
          "base_uri": "https://localhost:8080/"
        },
        "id": "mZI_7cIizcu8",
        "outputId": "403ea18f-7d11-4b3d-bf73-f85cb933d40d"
      },
      "execution_count": 19,
      "outputs": [
        {
          "output_type": "stream",
          "name": "stdout",
          "text": [
            "2\n",
            "0\n",
            "-1\n",
            "-5\n",
            "-11\n",
            "-22\n",
            "-40\n",
            "-70\n",
            "-119\n"
          ]
        }
      ]
    },
    {
      "cell_type": "markdown",
      "source": [
        "# Task 16"
      ],
      "metadata": {
        "id": "BlFg_7wZzwrv"
      }
    },
    {
      "cell_type": "code",
      "source": [
        "def bubbleSort(array):\n",
        "  for i in range(len(array)):\n",
        "    for j in range(0, len(array) - i - 1):\n",
        "      if array[j] > array[j + 1]:\n",
        "        temp = array[j]\n",
        "        array[j] = array[j+1]\n",
        "        array[j+1] = temp\n",
        "\n",
        "\n",
        "data = list(map(int, input().split(', ')))\n",
        "print('My list:', data)\n",
        "data2 = list(set(data))\n",
        "bubbleSort(data2)\n",
        "print(f'Second largest number in the list is {data2[-2]} which was found at index {data.index(data2[-2])}.')\n",
        "\n"
      ],
      "metadata": {
        "colab": {
          "base_uri": "https://localhost:8080/"
        },
        "id": "97qOesp4ztdJ",
        "outputId": "4222102e-2143-4081-bf7a-f87fa21c5989"
      },
      "execution_count": 38,
      "outputs": [
        {
          "output_type": "stream",
          "name": "stdout",
          "text": [
            "7, 13, 2, 10, 6, -11, 0\n",
            "My list: [7, 13, 2, 10, 6, -11, 0]\n",
            "Second largest number in the list is 10 which was found at index 3.\n"
          ]
        }
      ]
    },
    {
      "cell_type": "markdown",
      "source": [
        "# Task 17"
      ],
      "metadata": {
        "id": "1ykz02OD1Ty4"
      }
    },
    {
      "cell_type": "code",
      "source": [
        "i = list(map(int, input().split(', ')))\n",
        "\n",
        "m, mI = i[0], 0\n",
        "n, nI = i[0], 0\n",
        "\n",
        "for j, x in enumerate(i):\n",
        "  if x>m:\n",
        "    m = x\n",
        "    mI = j\n",
        "  elif x<n:\n",
        "    n = x\n",
        "    nI = j\n",
        "\n",
        "print(\n",
        "    'My list: ', i,\n",
        "    f'\\nSmallest number in the list is {n} which was found at index {nI}',\n",
        "    f'\\nLargest number in the list is {m} which was found at index {mI}',\n",
        "    sep=''\n",
        ")\n",
        "\n",
        " "
      ],
      "metadata": {
        "colab": {
          "base_uri": "https://localhost:8080/"
        },
        "id": "8iXGcDoA0KsD",
        "outputId": "55f0d4a9-fdba-45b3-e984-fcfaa51f2238"
      },
      "execution_count": 40,
      "outputs": [
        {
          "output_type": "stream",
          "name": "stdout",
          "text": [
            "7, 13, -5, 10, 6\n",
            "My list: [7, 13, -5, 10, 6]\n",
            "Smallest number in the list is -5 which was found at index 2\n",
            "Largest number in the list is 13 which was found at index 1\n"
          ]
        }
      ]
    },
    {
      "cell_type": "markdown",
      "source": [
        "# Task 18"
      ],
      "metadata": {
        "id": "Yi70BWHQ1z1Z"
      }
    },
    {
      "cell_type": "code",
      "source": [
        "a = input().split(', ')\n",
        "b = input().split(', ')\n",
        "print(list(set(a) & set(b)))\n",
        "\n"
      ],
      "metadata": {
        "colab": {
          "base_uri": "https://localhost:8080/"
        },
        "id": "MwqZwYbk0l1p",
        "outputId": "0c99c8de-9e90-4b0a-f14b-e9eb1071e85c"
      },
      "execution_count": 43,
      "outputs": [
        {
          "output_type": "stream",
          "name": "stdout",
          "text": [
            "A, B, C, D\n",
            "C, E, F, B\n",
            "['C', 'B']\n"
          ]
        }
      ]
    },
    {
      "cell_type": "markdown",
      "source": [
        "# Task 19"
      ],
      "metadata": {
        "id": "mQlYpXOj2xRg"
      }
    },
    {
      "cell_type": "code",
      "source": [
        "list_one = [1, 2, 2, 4, 5, 5, 7, 99, 200, 303, 70]\n",
        "list_two = [1, 1, 2, 3, 3, 3, 4, 5, 200, 500, -5]\n",
        "\n",
        "print(list(set(list_one+list_two)))\n",
        "\n"
      ],
      "metadata": {
        "colab": {
          "base_uri": "https://localhost:8080/"
        },
        "id": "keOMcmXU2q9n",
        "outputId": "0c517a3e-82fd-44a5-8da2-a4cd465ccd78"
      },
      "execution_count": 44,
      "outputs": [
        {
          "output_type": "stream",
          "name": "stdout",
          "text": [
            "[1, 2, 99, 4, 5, 70, 7, 200, 3, 303, 500, -5]\n"
          ]
        }
      ]
    },
    {
      "cell_type": "markdown",
      "source": [
        "# Task 20"
      ],
      "metadata": {
        "id": "urtrcNRQxzc9"
      }
    },
    {
      "cell_type": "code",
      "source": [
        "i = input()\n",
        "o = f'Original data: {i}'\n",
        "if i[0] == '[':\n",
        "  i = i[1:-1]\n",
        "o += f'\\nAfter removing square brackets: {i}'\n",
        "i = i.split(',')\n",
        "o += f'\\nNumbers in string format with extra white spaces: {i}'\n",
        "o += f'\\nFinal data (numbers in list format): {list(map(int, i))}'\n",
        "print(o)\n",
        "\n"
      ],
      "metadata": {
        "colab": {
          "base_uri": "https://localhost:8080/"
        },
        "id": "x420geiQxymd",
        "outputId": "9df1d4e0-e98c-49da-d0ed-418feafb894c"
      },
      "execution_count": 53,
      "outputs": [
        {
          "output_type": "stream",
          "name": "stdout",
          "text": [
            "[1, 2 , 3, 50, 4]\n",
            "Original data: [1, 2 , 3, 50, 4]\n",
            "After removing square brackets: 1, 2 , 3, 50, 4\n",
            "Numbers in string format with extra white spaces: ['1', ' 2 ', ' 3', ' 50', ' 4']\n",
            "Final data (numbers in list format): [1, 2, 3, 50, 4]\n"
          ]
        }
      ]
    },
    {
      "cell_type": "markdown",
      "source": [
        "# Task 21"
      ],
      "metadata": {
        "id": "fNUHX3Lb2ET8"
      }
    },
    {
      "cell_type": "code",
      "source": [
        "i = list(map(int, input().split(',')))\n",
        "print(\n",
        "    'Given numbers in list:', i,\n",
        "    '\\nList without any dupliacte values:', list(set(i))\n",
        ")\n",
        "\n"
      ],
      "metadata": {
        "colab": {
          "base_uri": "https://localhost:8080/"
        },
        "id": "ObQLSo7QxyjP",
        "outputId": "90635c88-a5e5-45a5-f3a1-7202779651e1"
      },
      "execution_count": 55,
      "outputs": [
        {
          "output_type": "stream",
          "name": "stdout",
          "text": [
            "0, 0, 1, 2, 3, 4, 4, 5, 6, 6, 6, 7, 8, 9, 4, 4\n",
            "Given numbers in list: [0, 0, 1, 2, 3, 4, 4, 5, 6, 6, 6, 7, 8, 9, 4, 4] \n",
            "List without any dupliacte values: [0, 1, 2, 3, 4, 5, 6, 7, 8, 9]\n"
          ]
        }
      ]
    }
  ]
}