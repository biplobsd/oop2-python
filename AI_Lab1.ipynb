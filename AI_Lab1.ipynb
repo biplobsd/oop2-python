{
  "nbformat": 4,
  "nbformat_minor": 0,
  "metadata": {
    "colab": {
      "name": "AI Lab1.ipynb",
      "provenance": [],
      "authorship_tag": "ABX9TyNuTTAJ1JmHVCl9cyL7ddtJ",
      "include_colab_link": true
    },
    "kernelspec": {
      "name": "python3",
      "display_name": "Python 3"
    },
    "language_info": {
      "name": "python"
    }
  },
  "cells": [
    {
      "cell_type": "markdown",
      "metadata": {
        "id": "view-in-github",
        "colab_type": "text"
      },
      "source": [
        "<a href=\"https://colab.research.google.com/github/biplobsd/oop2-python/blob/main/AI_Lab1.ipynb\" target=\"_parent\"><img src=\"https://colab.research.google.com/assets/colab-badge.svg\" alt=\"Open In Colab\"/></a>"
      ]
    },
    {
      "cell_type": "markdown",
      "source": [
        "from user input age, find out age is <br>\n",
        "less 13 then print kids <br>\n",
        "range 13, 19 then print Teneger<br>\n",
        "and other print Adult"
      ],
      "metadata": {
        "id": "IU0oDscQjvaM"
      }
    },
    {
      "cell_type": "code",
      "execution_count": null,
      "metadata": {
        "id": "W1RHDIEbjgYR"
      },
      "outputs": [],
      "source": [
        "userInput = int(input())\n",
        "\n",
        "if userInput < 13:\n",
        "    print(\"kids\")\n",
        "elif userInput>=13 and userInput <=19:\n",
        "    print(\"Teneger\")\n",
        "else:\n",
        "    print(\"Adult\")\n",
        "\n"
      ]
    },
    {
      "cell_type": "markdown",
      "source": [
        "user input is 6\n",
        "```\n",
        "         * \n",
        "       * * * \n" ,
        "     * * * * * \n",
        "   * * * * * * * \n",
        " * * * * * * * * * \n",
        "```\n"
      ],
      "metadata": {
        "id": "UkPgCGVZkkEL"
      }
    },
    {
      "cell_type": "code",
      "source": [
        "userinput = int(input())*2\n",
        "\n",
        "for lineNumber in range(1, userinput + 1, 2):\n",
        "    print(' '*(userinput-lineNumber)+'* '*lineNumber)"
      ],
      "metadata": {
        "colab": {
          "base_uri": "https://localhost:8080/"
        },
        "id": "dQnsBSeEk_Tu",
        "outputId": "5705476e-bbee-49e4-ac6c-9528f5797929"
      },
      "execution_count": 2,
      "outputs": [
        {
          "output_type": "stream",
          "name": "stdout",
          "text": [
            "6\n",
            "           * \n",
            "         * * * \n",
            "       * * * * * \n",
            "     * * * * * * * \n",
            "   * * * * * * * * * \n",
            " * * * * * * * * * * * \n"
          ]
        }
      ]
    },
    {
      "cell_type": "code",
      "source": [
        "## single line\n",
        "userinput = int(input())*2\n",
        "print(*[' '*((userinput)-i)+'* '*i+'\\n' for i in range(1, userinput+1, 2) ], sep='')"
      ],
      "metadata": {
        "colab": {
          "base_uri": "https://localhost:8080/"
        },
        "id": "-XbW1q8glFOs",
        "outputId": "e2e4b6bb-6d5e-426e-fc41-b698aba5d3cc"
      },
      "execution_count": 1,
      "outputs": [
        {
          "output_type": "Stream",
          "name": "stdout",
          "text": [
            "6\n",
            "           * \n",
            "         * * * \n",
            "       * * * * * \n",
            "     * * * * * * * \n",
            "   * * * * * * * * * \n",
            " * * * * * * * * * * * \n",
            "\n"
          ]
        }
      ]
    }
  ]
}
